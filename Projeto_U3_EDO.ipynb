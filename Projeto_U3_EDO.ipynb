{
 "cells": [
  {
   "cell_type": "code",
   "execution_count": null,
   "id": "772e3c7b-a647-4bff-860a-cc5c96ac6e34",
   "metadata": {},
   "outputs": [],
   "source": [
    "PROJETO UNIDADE3 COMPUTAÇÃO NUMÉRICA"
   ]
  },
  {
   "cell_type": "code",
   "execution_count": null,
   "id": "bdeb9581-6562-45bf-a276-264bdd3758b9",
   "metadata": {},
   "outputs": [],
   "source": [
    "Aluno: Daniel Medeiros Soares Carneiro (20220012347)"
   ]
  },
  {
   "cell_type": "code",
   "execution_count": null,
   "id": "4cbd35ce-ce98-41c5-b76f-499ea0a3eb35",
   "metadata": {},
   "outputs": [],
   "source": [
    "QUESTÃO 1: "
   ]
  },
  {
   "cell_type": "code",
   "execution_count": null,
   "id": "f57ae9ff-c1cc-42a4-a81e-78474f7621b4",
   "metadata": {},
   "outputs": [],
   "source": [
    "import numpy as np\n",
    "import matplotlib.pyplot as plt\n",
    "\n",
    "\n",
    "V1 = V2 = 100\n",
    "Qin = 10\n",
    "Q12 = 8\n",
    "Qout = 1\n",
    "Cin = 1\n",
    "\n",
    "C1_0 = 0\n",
    "C2_0 = 0\n",
    "\n",
    "ti = 0\n",
    "tf = 50\n",
    "dt = 0.1\n",
    "n_passos = int((tf - ti) / dt) + 1\n",
    "\n",
    "\n",
    "tempo = np.linspace(ti, tf, n_passos)\n",
    "C1 = np.zeros(n_passos)\n",
    "C2 = np.zeros(n_passos)\n",
    "C1[0] = C1_0\n",
    "C2[0] = C2_0\n",
    "\n",
    "\n",
    "\n",
    "for i in range(n_passos - 1):\n",
    "\n",
    "    dC1_dt = (Qin / V1) * (Cin - C1[i]) - (Q12 / V1) * C1[i]\n",
    "    dC2_dt = (Q12 / V2) * (C1[i] - C2[i]) - (Qout / V2) * C2[i]\n",
    "\n",
    "\n",
    "    C1[i+1] = C1[i] + dt * dC1_dt\n",
    "    C2[i+1] = C2[i] + dt * dC2_dt\n",
    "\n",
    "\n",
    "c1_valores = np.linspace(0, Cin, 20)\n",
    "c2_valores = np.linspace(0, Cin, 20)\n",
    "C1_grid, C2_grid = np.meshgrid(c1_valores, c2_valores)\n",
    "\n",
    "# Campo vetorial\n",
    "dC1 = (Qin / V1) * (Cin - C1_grid) - (Q12 / V1) * C1_grid\n",
    "dC2 = (Q12 / V2) * (C1_grid - C2_grid) - (Qout / V2) * C2_grid\n",
    "\n",
    "# Manter as setas com o mesmo tamanho (vetor unitário)\n",
    "norma = np.sqrt(dC1**2 + dC2**2)\n",
    "dC1_normalizado = dC1 / norma\n",
    "dC2_normalizado = dC2 / norma\n",
    "\n",
    "\n",
    "\n",
    "plt.figure(figsize=(12, 6))\n",
    "plt.subplot(1, 2, 1)\n",
    "plt.plot(tempo, C1, color=\"blue\", label='Tanque 1')\n",
    "plt.plot(tempo, C2, color=\"red\", label='Tanque 2')\n",
    "plt.xlabel('Tempo (min)')\n",
    "plt.ylabel('Concentração (g/L)')\n",
    "plt.title('Resposta Temporal das Concentrações')\n",
    "plt.legend()\n",
    "plt.grid(True, linestyle=\"--\", alpha=0.6)\n",
    "\n",
    "\n",
    "plt.subplot(1, 2, 2)\n",
    "plt.plot(C1, C2, color=\"blue\", label=\"Campo Vetorial\")\n",
    "plt.quiver(C1_grid, C2_grid, dC1_normalizado, dC2_normalizado, color='grey', alpha=0.5)\n",
    "plt.xlabel('Concentração Tanque 1')\n",
    "plt.ylabel('Concentração Tanque 2')\n",
    "plt.title('Diagrama de Fases')\n",
    "plt.grid(True, linestyle=\"--\", alpha=0.7)\n",
    "plt.legend()\n",
    "plt.tight_layout()\n",
    "plt.show()\n",
    "\n",
    "\n",
    "print(f\"Concentração final no Tanque 1: {C1[-1]:.4f} g/L\")\n",
    "print(f\"Concentração final no Tanque 2: {C2[-1]:.4f} g/L\")\n",
    "\n",
    "\n",
    "#Explicação:\n",
    "\n",
    "#"
   ]
  }
 ],
 "metadata": {
  "kernelspec": {
   "display_name": "Python 3 (ipykernel)",
   "language": "python",
   "name": "python3"
  },
  "language_info": {
   "codemirror_mode": {
    "name": "ipython",
    "version": 3
   },
   "file_extension": ".py",
   "mimetype": "text/x-python",
   "name": "python",
   "nbconvert_exporter": "python",
   "pygments_lexer": "ipython3",
   "version": "3.11.5"
  }
 },
 "nbformat": 4,
 "nbformat_minor": 5
}
